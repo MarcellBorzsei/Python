{
  "nbformat": 4,
  "nbformat_minor": 0,
  "metadata": {
    "colab": {
      "provenance": []
    },
    "kernelspec": {
      "name": "python3",
      "display_name": "Python 3"
    }
  },
  "cells": [
    {
      "cell_type": "markdown",
      "metadata": {
        "id": "UPNGQgO6aXtZ"
      },
      "source": [
        "# 1. házi feladat\n",
        "\n",
        "Az első házi feladat során egy egyszerű Multi-layer Perceptron (MLP) típusú neuronhálót kell betanítani és kiértékelni egy regressziós és egy klasszifikációs feladaton a PyTorch könyvtár segítségével.\n",
        "\n",
        "A házi feladat több részfeladatból áll (A - I), melyek egymásra épülnek. A feladat automatikus tesztelőszkripttel rendelkezik és vizsgálja az egyes részfeladatokra adott megoldások helyességét. Éppen ezért, **ne változtasd meg a notebook struktúráját**, ne szedd több részre, illetve ne módosítsd a megírt részeket, csak a megoldásaidat írd be a megfelelő helyre, különben nem fogjuk tudni értékelni! A megoldások az `# Implement your solution BELOW` és `# Implement your solution ABOVE` sorok közé írandók. Ha a megoldott részfeladatok futtatásakor a \"Tester: .... OK\" felirat megjelenik, _vélhetően_ jó a megoldás. Azonban, a tesztelőszkript nem képes a megoldás helyességét minden aspektus szerint ellenőrizni. Így elképzelhető, hogy beadás után további javításokat kérünk a megoldásban. A beadott házi feladatok gépi tanulás alapú plágiumellenőrzésen esnek át. Másolás gyanújának felmerülése esetén mind a másolat(ok), mind az azt/azokat ihlető eredeti megoldások visszautasíthatók.\n",
        "\n",
        "**!!! A feladatok megoldását, vagy az arra mutató linkeket bárhol közzétenni tilos !!!**\n",
        "\n",
        "Elakadás esetén javasolt átnézni a Canvason megosztott segédanyag notebookokat és az előadások anyagát. A Canvas fórumon \"HF1 GYIK\" névvel, a gyakori kérdéseket és válaszokat gyűjtjük össze. Továbbá, kérhető segítség az oktatóktól is, például a Teams rendszeren keresztül. Ehhez, kérjük a kurzus Canvas oldalán a legfelső modulban található _\"\n",
        "Teams beszélgetés indítása az oktatókkal\"_ linket használni: ez egy Teams beszélgetést kezdeményez az összes oktatóval egyidejűleg.\n",
        "\n",
        "**Megoldás és beküldés menete:**\n",
        "\n",
        "A közzétett, feladatokat tartalmazó Jupyter notebook a Google Drive-on keresztül lett megosztva, így a Google saját Jupyter notebook szerkesztője és futtatókörnyezete nyílik meg a linkre kattintáskor, a Google Colab. Ennek segítségével online szerkeszthető és futtatható a megosztott notebook. Mivel a notebook csak \"view\" jogosultságokkal van megosztva, a Google Colab az úgynevezett \"Playground\" módban nyitja azt meg, ahol bár szerkeszthető és futtatható a notebook, de a változtatások nem lesznek automatikusan mentve. A notebook maradandó hatásokkal járó szerkesztése az alábbi módokon lehetséges:\n",
        "- Ha online szeretnénk a notebookot szerkeszteni és futtatni a Google Colab segítségével, akkor le kell másolni azt a saját Drive tárhelyre (Google Colab file menü -> Save a copy to Drive), majd a másolatot kell megnyitni szerkesztésre.\n",
        "- A notebook le is tölthető és saját számítógépen is szerkeszthető / futtatható. Ehhez Python környezet megléte szükséges, valamint a notebookban importált Python csomagok és a `jupyterlab`, vagy `notebook` (https://jupyter.org/install) csomag telepítése szükséges a Python disztribúciónk csomagkezelőjével (`pip`, `conda`, stb.).\n",
        "\n",
        "A kész megoldást tartalmazó notebookot (.ipynb) fájlként kell feltölteni a Canvas-ban, a házi feladat beadási felületén.\n",
        "**Kérjük a notebook szerkezetét nem módosítani és nem szétszedni külön feladatok szerint!**\n",
        "\n",
        "**Határidő:** 2023. március 30., szombat, 23:59.\n",
        "\n",
        "**Késve legkésőbb leadható:** 2023. április 5., péntek, 23:59. - **Ezt követően pótlásra és/vagy javításra nincs lehetőség, ezáltal jegyszerzésre sem. !!!**\n",
        "\n",
        "**Értékelés:** A házi feladat helyes megoldása és oktatók által történő elfogadása feltétele a jegyszerzésnek. A házi feladat minősége részletesen pontozásra nem kerül, az értékelése kétfokozatú: megfelelt / nem felelt meg. Az első határidőig leadott nagyrészt helyes és nagyrészt teljes (\"megfelelt\") megoldásért 10 pont jár. Késés esetén ez elveszik.\n",
        "\n",
        "**Kikötés:** Ahol csak lehet, hatékony, vektorizált megoldásokat várunk. További részletekért lásd: Canvas, HF1 GYIK fórum, \"Használhatók-e Python ciklusok?\" bejegyzés."
      ]
    },
    {
      "cell_type": "markdown",
      "metadata": {
        "id": "dEKuTE7hGsZr"
      },
      "source": [
        "Tesztelő szkript letöltése, importok."
      ]
    },
    {
      "cell_type": "code",
      "metadata": {
        "id": "dc9fa3F-T0u5",
        "colab": {
          "base_uri": "https://localhost:8080/"
        },
        "outputId": "b15fb1f1-a025-4bcb-e45b-1ad50a180d0e"
      },
      "source": [
        "# Download tester\n",
        "!rm annbsc24_p1_hw1_tester.py\n",
        "!wget https://nipg12.inf.elte.hu/~vavsaai@nipg.lab/annbsc24_p1/files/annbsc24_p1_hw1_tester.py\n",
        "\n",
        "import copy\n",
        "import numpy as np\n",
        "import torch\n",
        "import torch.nn as nn\n",
        "from torch.utils.data import Dataset, DataLoader\n",
        "\n",
        "import matplotlib.pyplot as plt\n",
        "\n",
        "from annbsc24_p1_hw1_tester import Tester"
      ],
      "execution_count": 131,
      "outputs": [
        {
          "output_type": "stream",
          "name": "stdout",
          "text": [
            "--2024-03-30 16:18:29--  https://nipg12.inf.elte.hu/~vavsaai@nipg.lab/annbsc24_p1/files/annbsc24_p1_hw1_tester.py\n",
            "Resolving nipg12.inf.elte.hu (nipg12.inf.elte.hu)... 157.181.160.172\n",
            "Connecting to nipg12.inf.elte.hu (nipg12.inf.elte.hu)|157.181.160.172|:443... connected.\n",
            "HTTP request sent, awaiting response... 200 OK\n",
            "Length: 14778 (14K)\n",
            "Saving to: ‘annbsc24_p1_hw1_tester.py’\n",
            "\n",
            "annbsc24_p1_hw1_tes 100%[===================>]  14.43K  93.1KB/s    in 0.2s    \n",
            "\n",
            "2024-03-30 16:18:30 (93.1 KB/s) - ‘annbsc24_p1_hw1_tester.py’ saved [14778/14778]\n",
            "\n"
          ]
        }
      ]
    },
    {
      "cell_type": "markdown",
      "metadata": {
        "id": "BJ7TTytUaUwW"
      },
      "source": [
        "###**A**: Az adatbázis betöltése\n",
        "\n",
        "**Információ az adatbázisról**:\n",
        "Az adatbázis az UCI Machine Learning Repository-ról származik (http://archive.ics.uci.edu/ml/datasets/Student+Performance). Két portugál középiskolában tanuló diákok néhány adatát és a harmadév végi, év végi jegyeiket (0-20) tartalmazza. A házi feladat keretében, **neuronhálókkal próbálunk a diákok szociális és pénzügyi háttere alapján becsléseket adni az iskolai teljesítményükre.**\n",
        "\n",
        "A tesztelőszkript letölti a szöveges formában tárolt adatbázist és elhelyezi a `content` sztringben. Alább, kiírjuk a hosszát és az első 500 karaktert is a sztringből. Az adatbázis fájlok egy-egy sora adja meg az egy-egy mintaelemhez tartozó változók értékeit. A sorokban az egyes változókhoz tartozó értékek pontosvesszővel vannak elválasztva. Az adatbázis első sora a változók neveit tartalmazza.\n",
        "\n",
        "A feladatod, hogy **alakítsd át a `content` sztringet az adatbázis változóinak értékeit tartalmazó NumPy tömbbé.** A tömbök adattípusa np.float32 (lebegőpontos) legyen! A változók értékeit helyezd el a `dataset_noisy` (n_mintaelem, n_változó) alakú tömbben!  Az input változókat és címkéket később választjuk majd szét.\n",
        "\n",
        "Az adatbázis helyenként hiányzó értékeket tartalmaz: az adatok egy része nem volt elérhető az adatbázis rögzítésekor. Konkrétabban, a család méretét, a szülők együttélését és munkáját leíró oszlopokban találhatók hiányzó értékek. Ezek az ötödik (famsize), hatodik (Pstatus), kilencedik (Mjob) és tizedik (Fjob) oszlopokban találhatók. Hiányzó értékek esetén a `content` sztringben ténylegesen is hiányoznak a megfelelő pontosvesszők közt elhelyezkedő értékek, tehát ilyenkor két (vagy több) pontosvessző következik egymás után.\n",
        "\n",
        "A hiányzó értékeket kezelned kell és fel kell ismerned beolvasás közben: a hiányzó értékek helyére a `dataset_noisy` tömbben `np.nan` (Not-a-Number) értékek kell, hogy kerüljenek. A NaN értékek kezeléséről rövid útmutató található a Canvas-on, a HF1 GYIK fórum válaszai közt."
      ]
    },
    {
      "cell_type": "code",
      "metadata": {
        "id": "OdKqP5OvXJpX",
        "colab": {
          "base_uri": "https://localhost:8080/"
        },
        "outputId": "f9764291-b83e-4d45-9658-18da461e3e3c"
      },
      "source": [
        "tester = Tester()\n",
        "content = tester.get_dataset_content()\n",
        "\n",
        "print(\"Number of characters in dataset:\", len(content))\n",
        "print(content[:500])\n"
      ],
      "execution_count": 132,
      "outputs": [
        {
          "output_type": "stream",
          "name": "stdout",
          "text": [
            "Number of characters in dataset: 27388\n",
            "school;sex;age;address;famsize;Pstatus;Medu;Fedu;Mjob;Fjob;reason;guardian;traveltime;studytime;failures;schoolsup;famsup;paid;activities;nursery;higher;internet;romantic;famrel;freetime;goout;Dalc;Walc;health;absences;G1;G2;G3\n",
            "0;0;18;0;1;1;4;4;5;0;4;0;2;2;0;0;1;1;1;0;0;1;1;4;3;4;1;1;3;6;5;6;6\n",
            "0;0;17;0;1;0;1;1;5;3;4;1;1;2;0;1;0;1;1;1;0;0;1;5;3;3;1;1;3;4;5;5;6\n",
            "0;0;15;0;0;0;1;1;5;3;3;0;1;2;3;0;1;0;1;0;0;0;1;4;3;2;2;3;3;10;7;8;10\n",
            "0;0;15;0;1;0;4;2;;4;0;0;1;3;0;1;0;0;0;0;0;0;0;3;2;2;1;1;5;2;15;14;15\n",
            "\n"
          ]
        }
      ]
    },
    {
      "cell_type": "code",
      "metadata": {
        "id": "q_kfEC4sEMtw",
        "colab": {
          "base_uri": "https://localhost:8080/"
        },
        "outputId": "b0c44a65-927a-4fea-8ced-c0304a8ed269"
      },
      "source": [
        "# implement your solution BELOW\n",
        "\n",
        "lines = content.split('\\n')\n",
        "column_names = lines[0].split(';')\n",
        "lines = lines[1:]\n",
        "\n",
        "# Meg kell számolni mennyi nem üres sor van\n",
        "xCount = 0\n",
        "for line in lines:\n",
        "    if line.strip() != '':\n",
        "        xCount += 1\n",
        "\n",
        "yCount = len(column_names)\n",
        "\n",
        "# Mindegyik helyre elöszőr NaN értéket teszek\n",
        "dataset_noisy = np.empty((xCount, yCount), dtype=np.float32)\n",
        "dataset_noisy[:] = np.nan\n",
        "\n",
        "sample_index = 0  # Minta index inicializálása\n",
        "for line in lines:\n",
        "    if line.strip() != '':  # Ha a sor nem üres\n",
        "        values = line.split(';')\n",
        "\n",
        "        for j in range(len(values)):\n",
        "            value = values[j]\n",
        "            if value.strip() == '':\n",
        "                # Ha üres az érték akkor NaN értéket teszek bele\n",
        "                dataset_noisy[sample_index, j] = np.nan\n",
        "            else:\n",
        "                dataset_noisy[sample_index, j] = np.float32(value)\n",
        "        sample_index += 1\n",
        "\n",
        "# print(dataset_noisy[3][8])\n",
        "\n",
        "\n",
        "# implement your solution ABOVE\n",
        "\n",
        "tester.test('dataset_load', dataset_noisy)\n",
        "\n"
      ],
      "execution_count": 133,
      "outputs": [
        {
          "output_type": "stream",
          "name": "stdout",
          "text": [
            "Tester: Dataset loading OK\n"
          ]
        }
      ]
    },
    {
      "cell_type": "markdown",
      "source": [
        "## **B**: A hiányzó adat kezelése\n",
        "\n",
        "NaN értékekkel nem fogunk tudni tovább dolgozni, hiszen a legtöbb NumPy/PyTorch művelet nem támogatja őket és bármilyen tömbre, melyben legalább egy NaN érték található, ezen műveletek kimenete is NaN lesz, így például a neuronhálónk becslése és költsége is. Utóbbi megakadályozza, hogy a hálót gradiens módszerrel optimalizáljuk. Éppen ezért, a hiányzó adatokat reprezentáló NaN értékeket az alábbi módon fogjuk eltüntetni:\n",
        "\n",
        "**Hozz létre minden NaN értéket tartalmazó változóhoz egy-egy újabb változót, melyek azt jelzik, hogy valódi érték található-e az adott változóban az adott mintaelemnél, vagy nem!** Valódi érték esetén az új változó kapjon 1 értéket, NaN esetén pedig 0 értéket! Helyezd el az eredeti adatot és az új változókat a `dataset` tömbben: az új változók oszlopai kerüljenek megfelelő sorrendben az összes eredeti változót tartalmazó oszlop **után**! Az előző feladat leírásában említésre került, hogy melyik oszlopok tartalmazhatnak NaN értékeket.</br>\n",
        "Mivel a 33 változós adatbázisunk #4, #5, #8 és #9 indexű oszlopai (változói) tartalmazhatnak NaN értékeket, akkor az új `dataset` tömbünk 37 változós lesz és a négy új változó az utolsó négy oszlopba kerül. Például tehát, a #33 indexű oszlopban egy adott sorba nullás érték kerül, ha a #4-es oszlopban annál a sornál NaN található, egyébként pedig 1-es érték kerül oda. Hasonlóan készítjük el a #34, #35, #36 indexű oszlopokat az #5, #8 és #9 indexű oszlopok alapján.\n",
        "\n",
        "Végül, **helyettesítsd** az így elkészült **tömb összes NaN értékét nullával!**\n"
      ],
      "metadata": {
        "id": "h742EV1H38vK"
      }
    },
    {
      "cell_type": "code",
      "source": [
        "# implement your solution BELOW\n",
        "\n",
        "dataset = dataset_noisy.astype(np.float32)\n",
        "\n",
        "nanIndexs = [4, 5, 8, 9]\n",
        "\n",
        "\n",
        "for index in nanIndexs:\n",
        "    is_nan_column = (~np.isnan(dataset[:, index])).astype(np.float32)\n",
        "    dataset = np.column_stack((dataset, is_nan_column))\n",
        "\n",
        "dataset[np.isnan(dataset)] = 0\n",
        "# implement your solution ABOVE\n",
        "\n",
        "tester.test('dataset_fill_missing', dataset)"
      ],
      "metadata": {
        "id": "tqx3YTmF4KGT",
        "colab": {
          "base_uri": "https://localhost:8080/"
        },
        "outputId": "123c1a73-31e8-4685-bc82-8e87d3fccf50"
      },
      "execution_count": 134,
      "outputs": [
        {
          "output_type": "stream",
          "name": "stdout",
          "text": [
            "Tester: Dataset loading OK\n"
          ]
        }
      ]
    },
    {
      "cell_type": "markdown",
      "metadata": {
        "id": "KrE7NLJTR7Aq"
      },
      "source": [
        "## **C**: Tanító-, validációs- és teszthalmaz szétválasztása\n",
        "\n",
        "**Keverd meg véletlenszerűen a mintaelemeket** a `dataset` tömbben! Ezt általánosságban azért célszerű megtenni, mert az adatbázisban az elemek valamilyen tulajdonságaik alapján rendezve lehetnek. Megkeverés nélkül, a szétválasztott halmazokban jelentősen különbözne a címkék eloszlása.\n",
        "\n",
        "Ezt követően **válaszd szét a tömböt tanító-, validációs- és teszthalmazra**, 60%, 20%, 20% arányban! A halmazokat tartalmazó három tömböt nevezd el `dataset_split_train`, `dataset_split_val`, `dataset_split_test`-nek, sorrendben!"
      ]
    },
    {
      "cell_type": "code",
      "source": [
        "# implement your solution BELOW\n",
        "\n",
        "np.random.shuffle(dataset)\n",
        "\n",
        "tillTrain = int(60 * xCount / 100)\n",
        "tillValidation = int(tillTrain + (20 * xCount / 100))\n",
        "tillTest =  int(tillValidation + (20 * xCount / 100))\n",
        "\n",
        "\n",
        "print(tillTrain)\n",
        "print(tillValidation)\n",
        "print(tillTest)\n",
        "\n",
        "dataset_split_train = dataset[0:tillTrain]\n",
        "dataset_split_val = dataset[tillTrain:tillValidation]\n",
        "dataset_split_test = dataset[tillValidation:tillTest]\n",
        "\n",
        "\n",
        "# implement your solution ABOVE\n",
        "\n",
        "tester.test('dataset_split', dataset_split_train, dataset_split_val, dataset_split_test)"
      ],
      "metadata": {
        "id": "VlPL_GE2xcR1",
        "colab": {
          "base_uri": "https://localhost:8080/"
        },
        "outputId": "ca3ac9bc-ca12-4c10-a623-bc7fb7a194a6"
      },
      "execution_count": 135,
      "outputs": [
        {
          "output_type": "stream",
          "name": "stdout",
          "text": [
            "237\n",
            "316\n",
            "395\n",
            "Tester: Dataset split OK\n"
          ]
        }
      ]
    },
    {
      "cell_type": "markdown",
      "source": [
        "## **D**: Az adat-iterátorok létrehozása a regressziós feladathoz\n",
        "\n",
        "A neuronhálók gradiens módszeres betanítását a legtöbbször iterátorokkal valósítjuk meg, melyek bejárják az adatbázisunkat és előállítják a neuronhálók tanításához szükséges input és címke kötegeket. A regressziós feladat során a becsülendő címkeváltozó a diákok év végi jegye lesz (`G3` nevű oszlop az eredeti adatbázis szövegfájlban - ez a 32-es indexű oszlop), míg az input változókat az összes többi attribútum adja, beleértve az újonnan előállított négy változót is.\n",
        "\n",
        "Ebben a részfeladatban **elő kell állítanod három iterátor objektumot** `dataloader_reg_train`, `dataloader_reg_val`, `dataloader_reg_test` néven, melyek az előző részfeladatban elkészített tanító-, validációs- és teszthalmazokat tartalmazó tömböket járják be. **Az iterátorok minden lépésben két tenzort adnak vissza**, melyek egy-egy kötegnyi input és címke adatot tárolnak el. A visszaadott tenzorok alakja tehát `(batch_size, 36)` és `(batch_size, 1)` lesz. Utóbbi (a címkéket tartalmazó tenzor) a diákok év végi jegyeit fogja tartalmazni, előbbi pedig az adatbázis összes többi változójának értékét a megfelelő mintaelemekre. `batch_size` a mintaelemek számát adja meg, melyeket egyszerre, egy kötegben fog megkapni a neuronhálónk - ennek értéke lehet például 32.\n",
        "\n",
        "Hangsúlyozandó, hogy az iterátorok a fent említett NumPy tömbökből (`np.ndarray`) nyert mintaelem-kötegeket már `torch.tensor` típusú objektumokként adják vissza (pontosabban, kételemű tuple-öket adnak vissza, melyekben `torch.tensor` objektumok lesznek). A PyTorch-al definiált neuronhálók betanításához már mindenképp PyTorch tenzorok szükségesek. A tenzorok **adattípusa** 4 bájtos lebegőpontos típus (`torch.float32`) legyen!\n",
        "\n",
        "A **tanító és validációs halmazt felsoroló iterátorok járják be véletlen sorrendben** a hozzájuk tartozó mintaelemeket! A teszt halmazt felsoroló iterátor ne változtasson a `dataset_split_test` tömb sorrendjén!\n",
        "\n",
        "Az iterátorok implementációja többféleképpen megoldható, de javasolt a `torch.utils.data` modul `Dataset` és `DataLoader` osztályait felhasználni, vagy szükség esetén származtatni őket."
      ],
      "metadata": {
        "id": "jCQKy2XL_yEx"
      }
    },
    {
      "cell_type": "code",
      "metadata": {
        "id": "ls4niplvUgQ6",
        "colab": {
          "base_uri": "https://localhost:8080/"
        },
        "outputId": "831b1c8d-5a3b-4053-ba7e-a45454e7815e"
      },
      "source": [
        "# implement your solution BELOW\n",
        "\n",
        "class YearEndGradeDataset(Dataset):\n",
        "    def __init__(self, features, target):\n",
        "        self.features = torch.tensor(features, dtype=torch.float32)\n",
        "        self.target = torch.tensor(target, dtype=torch.float32)\n",
        "\n",
        "    def __len__(self):\n",
        "        return len(self.features)\n",
        "\n",
        "    def __getitem__(self, idx):\n",
        "        return self.features[idx], self.target[idx]\n",
        "\n",
        "\n",
        "\n",
        "train_x_values = np.concatenate((dataset_split_train[:, :32], dataset_split_train[:, 33:]), axis=1)\n",
        "val_x_values = np.concatenate((dataset_split_val[:, :32], dataset_split_val[:, 33:]), axis=1)\n",
        "test_x_values = np.concatenate((dataset_split_test[:, :32], dataset_split_test[:, 33:]), axis=1)\n",
        "\n",
        "train_dataset = YearEndGradeDataset(train_x_values , np.reshape(dataset_split_train[:, 32], (-1, 1)))\n",
        "val_dataset = YearEndGradeDataset(val_x_values , np.reshape(dataset_split_val[:, 32], (-1, 1)))\n",
        "test_dataset = YearEndGradeDataset(test_x_values ,np.reshape(dataset_split_test[:, 32], (-1, 1)))\n",
        "\n",
        "dataloader_reg_train = DataLoader(train_dataset, batch_size=32, shuffle=True)\n",
        "dataloader_reg_val = DataLoader(val_dataset, batch_size=32, shuffle=True)\n",
        "dataloader_reg_test = DataLoader(test_dataset, batch_size=32, shuffle=False)\n",
        "\n",
        "\n",
        "\n",
        "\n",
        "\n",
        "# implement your solution ABOVE\n",
        "\n",
        "tester.test('reg_iter', dataloader_reg_train, dataloader_reg_val, dataloader_reg_test)"
      ],
      "execution_count": 136,
      "outputs": [
        {
          "output_type": "stream",
          "name": "stdout",
          "text": [
            "Tester: Dataset iterators for regression task OK\n"
          ]
        }
      ]
    },
    {
      "cell_type": "markdown",
      "metadata": {
        "id": "dohOMs4NlVXG"
      },
      "source": [
        "## **E**: A regressziós neuronháló definiálása\n",
        "\n",
        "**Definiáld a regressziós feladathoz alkalmazandó neuronhálót megvalósító osztályt**, mely az általános `torch.nn.Module` osztály leszármazottja, majd példányosítsd azt és add értékül a `reg_model` nevű változónak a példányt!\n",
        "\n",
        "A regressziós neuronháló **tartalmazzon 3 teljesen összekötött réteget, sorban 30, 20 és 1 neuronnal és alkalmazza a ReLU aktivációs függvényt a rétegek között!**\n",
        "\n",
        "Az új osztálynak mindenképpen meg kell valósítania a `forward(self, x)` tagfüggvényt, mely a neuronhálót (hipotézisfüggvényt) az `x` input tenzorra kiértékeli. A `forward` függvény fogja majd az előbb definiált adat-iterátorból érkező input tenzorokat megkapni és előállítani belőle a címkebecsléseket. Az osztály konstruktorában célszerű a neuronhálónk rétegeit inicializálni."
      ]
    },
    {
      "cell_type": "code",
      "metadata": {
        "id": "rAywpNOml4VL",
        "colab": {
          "base_uri": "https://localhost:8080/"
        },
        "outputId": "dc220b7c-f32e-4222-a60a-73d205bef889"
      },
      "source": [
        "# implement your solution BELOW\n",
        "\n",
        "class RegressionModel(nn.Module):\n",
        "    def __init__(self, input_dim):\n",
        "        super().__init__()\n",
        "        self.linear_relu_layers = nn.Sequential(\n",
        "            nn.Linear(input_dim, 30),\n",
        "            nn.ReLU(),\n",
        "            nn.Linear(30, 20),\n",
        "            nn.ReLU(),\n",
        "            nn.Linear(20, 1)\n",
        "        )\n",
        "    def forward(self, x):\n",
        "      return self.linear_relu_layers(x)\n",
        "\n",
        "reg_model = RegressionModel(36)\n",
        "\n",
        "\n",
        "# implement your solution ABOVE\n",
        "\n",
        "tester.test('reg_model_architecture', reg_model)"
      ],
      "execution_count": 137,
      "outputs": [
        {
          "output_type": "stream",
          "name": "stdout",
          "text": [
            "Tester: Regression model architecture OK\n"
          ]
        }
      ]
    },
    {
      "cell_type": "markdown",
      "metadata": {
        "id": "Pz4fFtBUhUXV"
      },
      "source": [
        "## **F**: A háló betanítása regressziós feladatra\n",
        "\n",
        "**Tanítsd be a** `reg_model` **neuronhálót** a tanítóhalmazon a `dataloader_reg_train` iterátor segítségével és alkalmazd a `dataloader_reg_val` iterátort a validációhoz! Az iterátorok egyetlen (akár véletlen sorrendben történő) végighaladása a tanító és validációs adathalmazokon határoz meg egy _epoch_-ot.\n",
        "\n",
        "Alkalmazd a regressziókor szokásosan használt **\"átlagos négyzetes eltérés\" költséget**! **Mérd le minden epoch-ban a tanító- és a validációs halmazon mért költségeket, majd a tanítás végeztével rajzold ki ezeknek az értékeknek a tanítás során való alakulását egy közös grafikonon!** A grafikonok kirajzolásához használhatod például a `matplotlib` könyvtárat. Figyelj rá, hogy a grafikonon jól látszódjanak a görbék közti eltérések a tanítás végén is! Ha szükséges, beállíthatod ehhez kézzel, hogy az y tengely melyik részét mutassa a grafikon. **A grafikonon legyen jelmagyarázat** (legend), mely megmutatja, melyik görbe írja le a tanítási költséget és melyik a validációs költséget!\n",
        "\n",
        "Azt, hogy a tanítás meddig tartson (az epoch-ok számát) megadhatod kézzel is, a validációs költség alakulása alapján: próbáld úgy megadni, hogy a neuronháló lehetőleg jól betanult legyen, de súlyos túltanulás még ne jelenjen meg!\n",
        "\n",
        "A betanításhoz válassz egy gradiens módszer alapú **optimalizációs algoritmust** a `torch.optim` modulból (pl. `SGD`, `Adam`, `RMSprop`, stb.), majd válassz egy megfelelő **tanulási rátát** is!\n",
        "\n",
        "A betanítás végeztével **mérd le az átlagos költséget a teljes teszthalmazon** és add értékül a kapott számot a `test_mse` változónak!\n",
        "\n",
        "Ezt követően, **válassz néhány mintaelemet a teszthalmazból** (például a `dataloader_reg_test` iterátor segítségével) és **adj becslést a címkéjükre** az input változók értékei alapján, majd **írasd ki az egyes mintaelemekre a becsült és az igazi címkéjüket!** Így példákon is láthatjuk, hogy mennyire ad jó becsléseket a neuronhálónk.\n",
        "\n"
      ]
    },
    {
      "cell_type": "code",
      "source": [
        "# implement your solution BELOW\n",
        "\n",
        "n_epochs = 120\n",
        "loss_fn = nn.MSELoss()\n",
        "\n",
        "learning_rate = 0.001\n",
        "optimizer = torch.optim.Adam(reg_model.parameters(), lr=learning_rate)\n",
        "\n",
        "train_losses = []\n",
        "val_losses = []\n",
        "\n",
        "for epoch in range(n_epochs):\n",
        "    reg_model.train()\n",
        "    train_epoch_losses = []\n",
        "\n",
        "    for x, y in dataloader_reg_train:\n",
        "        optimizer.zero_grad()\n",
        "        y_hat = reg_model(x)\n",
        "        loss = loss_fn(y_hat, y)\n",
        "        train_epoch_losses.append(loss)\n",
        "        loss.backward()\n",
        "        optimizer.step()\n",
        "\n",
        "    train_epoch_losses = torch.tensor(train_epoch_losses)\n",
        "    avg_epoch_loss = train_epoch_losses.mean()\n",
        "    train_losses.append(avg_epoch_loss)\n",
        "\n",
        "    reg_model.eval()\n",
        "    val_epoch_losses = []\n",
        "\n",
        "    for x, y in dataloader_reg_val:\n",
        "        with torch.no_grad():\n",
        "            y_hat = reg_model(x)\n",
        "\n",
        "        loss = loss_fn(y_hat, y)\n",
        "        val_epoch_losses.append(loss)\n",
        "\n",
        "    val_epoch_losses = torch.tensor(val_epoch_losses)\n",
        "    avg_epoch_loss = val_epoch_losses.mean()\n",
        "    val_losses.append(avg_epoch_loss)\n",
        "\n",
        "    test_losses = []\n",
        "    prediction_label_pairs = []\n",
        "    for x, y in dataloader_reg_test:\n",
        "        with torch.no_grad():\n",
        "          y_hat = reg_model(x)\n",
        "        loss = loss_fn(y_hat, y)\n",
        "        prediction_label_pairs.append(torch.concat((y_hat, y), dim=-1))\n",
        "        test_losses.append(loss)\n",
        "\n",
        "    test_mse = torch.tensor(test_losses).mean()\n",
        "\n",
        "\n",
        "\n",
        "    print(f'Tranining {epoch+1}/{n_epochs} done, training loss: {train_losses[-1]}, validation loss: {val_losses[-1]}')\n",
        "\n",
        "\n",
        "print(test_mse)\n",
        "\n",
        "plt.plot(train_losses, label='Training')\n",
        "plt.plot(val_losses, label='Validation')\n",
        "plt.xlabel('Epochs')\n",
        "plt.ylabel('MSE loss')\n",
        "plt.legend()\n",
        "plt.show()\n",
        "\n",
        "\n",
        "# implement your solution ABOVE\n",
        "\n",
        "tester.test('reg_model_learning', test_mse)"
      ],
      "metadata": {
        "id": "ReFyxJXAzcx5",
        "colab": {
          "base_uri": "https://localhost:8080/",
          "height": 1000
        },
        "outputId": "d1604df3-e9e4-4914-d4e8-f742e42c2211"
      },
      "execution_count": 138,
      "outputs": [
        {
          "output_type": "stream",
          "name": "stdout",
          "text": [
            "Tranining 1/120 done, training loss: 129.56436157226562, validation loss: 113.84394073486328\n",
            "Tranining 2/120 done, training loss: 120.58494567871094, validation loss: 105.24016571044922\n",
            "Tranining 3/120 done, training loss: 111.6740493774414, validation loss: 100.21553802490234\n",
            "Tranining 4/120 done, training loss: 98.8455810546875, validation loss: 86.9431381225586\n",
            "Tranining 5/120 done, training loss: 82.33300018310547, validation loss: 68.16695404052734\n",
            "Tranining 6/120 done, training loss: 57.807647705078125, validation loss: 44.03156661987305\n",
            "Tranining 7/120 done, training loss: 35.35253143310547, validation loss: 29.181671142578125\n",
            "Tranining 8/120 done, training loss: 21.707992553710938, validation loss: 21.419204711914062\n",
            "Tranining 9/120 done, training loss: 16.1951961517334, validation loss: 20.30188751220703\n",
            "Tranining 10/120 done, training loss: 15.974560737609863, validation loss: 19.050275802612305\n",
            "Tranining 11/120 done, training loss: 16.40178871154785, validation loss: 20.60934066772461\n",
            "Tranining 12/120 done, training loss: 14.780125617980957, validation loss: 18.857345581054688\n",
            "Tranining 13/120 done, training loss: 14.453038215637207, validation loss: 20.14433479309082\n",
            "Tranining 14/120 done, training loss: 13.85047721862793, validation loss: 18.157453536987305\n",
            "Tranining 15/120 done, training loss: 13.016246795654297, validation loss: 15.522525787353516\n",
            "Tranining 16/120 done, training loss: 12.581775665283203, validation loss: 15.982144355773926\n",
            "Tranining 17/120 done, training loss: 12.176614761352539, validation loss: 16.97588539123535\n",
            "Tranining 18/120 done, training loss: 12.046347618103027, validation loss: 17.223499298095703\n",
            "Tranining 19/120 done, training loss: 10.821756362915039, validation loss: 17.20392417907715\n",
            "Tranining 20/120 done, training loss: 10.7229585647583, validation loss: 14.474601745605469\n",
            "Tranining 21/120 done, training loss: 10.111459732055664, validation loss: 14.347171783447266\n",
            "Tranining 22/120 done, training loss: 9.437078475952148, validation loss: 13.93480396270752\n",
            "Tranining 23/120 done, training loss: 8.96679401397705, validation loss: 11.541938781738281\n",
            "Tranining 24/120 done, training loss: 8.10025691986084, validation loss: 10.891109466552734\n",
            "Tranining 25/120 done, training loss: 6.920950412750244, validation loss: 10.21976375579834\n",
            "Tranining 26/120 done, training loss: 6.54730224609375, validation loss: 8.368353843688965\n",
            "Tranining 27/120 done, training loss: 5.484493255615234, validation loss: 8.188883781433105\n",
            "Tranining 28/120 done, training loss: 5.0571064949035645, validation loss: 6.702376842498779\n",
            "Tranining 29/120 done, training loss: 5.0860915184021, validation loss: 8.173384666442871\n",
            "Tranining 30/120 done, training loss: 4.3235297203063965, validation loss: 5.630700588226318\n",
            "Tranining 31/120 done, training loss: 4.810164451599121, validation loss: 5.764213562011719\n",
            "Tranining 32/120 done, training loss: 3.979975700378418, validation loss: 5.310598850250244\n",
            "Tranining 33/120 done, training loss: 4.141736030578613, validation loss: 6.67095422744751\n",
            "Tranining 34/120 done, training loss: 3.844670295715332, validation loss: 5.275469779968262\n",
            "Tranining 35/120 done, training loss: 3.8865489959716797, validation loss: 6.65325927734375\n",
            "Tranining 36/120 done, training loss: 4.0410475730896, validation loss: 5.323818683624268\n",
            "Tranining 37/120 done, training loss: 3.939671754837036, validation loss: 5.764420986175537\n",
            "Tranining 38/120 done, training loss: 3.9743223190307617, validation loss: 4.6833176612854\n",
            "Tranining 39/120 done, training loss: 3.7220489978790283, validation loss: 5.576486110687256\n",
            "Tranining 40/120 done, training loss: 3.9050824642181396, validation loss: 5.944406032562256\n",
            "Tranining 41/120 done, training loss: 3.7107975482940674, validation loss: 6.352414608001709\n",
            "Tranining 42/120 done, training loss: 3.1966795921325684, validation loss: 4.582326412200928\n",
            "Tranining 43/120 done, training loss: 3.201251745223999, validation loss: 5.788295269012451\n",
            "Tranining 44/120 done, training loss: 3.171832799911499, validation loss: 5.683837890625\n",
            "Tranining 45/120 done, training loss: 3.0235073566436768, validation loss: 4.869160175323486\n",
            "Tranining 46/120 done, training loss: 3.1847493648529053, validation loss: 5.19752311706543\n",
            "Tranining 47/120 done, training loss: 3.049773931503296, validation loss: 5.279144287109375\n",
            "Tranining 48/120 done, training loss: 2.8523778915405273, validation loss: 4.710803508758545\n",
            "Tranining 49/120 done, training loss: 2.899083375930786, validation loss: 4.436943054199219\n",
            "Tranining 50/120 done, training loss: 2.805372953414917, validation loss: 5.783557891845703\n",
            "Tranining 51/120 done, training loss: 3.045837163925171, validation loss: 4.515539646148682\n",
            "Tranining 52/120 done, training loss: 2.643644094467163, validation loss: 4.721485137939453\n",
            "Tranining 53/120 done, training loss: 2.6350975036621094, validation loss: 4.699538707733154\n",
            "Tranining 54/120 done, training loss: 2.6110944747924805, validation loss: 4.9558491706848145\n",
            "Tranining 55/120 done, training loss: 3.0801093578338623, validation loss: 4.2597432136535645\n",
            "Tranining 56/120 done, training loss: 2.8256521224975586, validation loss: 5.056632995605469\n",
            "Tranining 57/120 done, training loss: 2.7961678504943848, validation loss: 4.996345043182373\n",
            "Tranining 58/120 done, training loss: 2.5399036407470703, validation loss: 4.459502696990967\n",
            "Tranining 59/120 done, training loss: 2.5374321937561035, validation loss: 4.737644672393799\n",
            "Tranining 60/120 done, training loss: 2.529968500137329, validation loss: 4.6973185539245605\n",
            "Tranining 61/120 done, training loss: 2.526918888092041, validation loss: 4.839142322540283\n",
            "Tranining 62/120 done, training loss: 2.5693984031677246, validation loss: 4.546816349029541\n",
            "Tranining 63/120 done, training loss: 2.756776809692383, validation loss: 4.6630048751831055\n",
            "Tranining 64/120 done, training loss: 2.564885139465332, validation loss: 4.763615131378174\n",
            "Tranining 65/120 done, training loss: 2.355098009109497, validation loss: 4.265105247497559\n",
            "Tranining 66/120 done, training loss: 2.5325279235839844, validation loss: 5.058348178863525\n",
            "Tranining 67/120 done, training loss: 2.4605441093444824, validation loss: 5.201076507568359\n",
            "Tranining 68/120 done, training loss: 2.6037957668304443, validation loss: 4.422482967376709\n",
            "Tranining 69/120 done, training loss: 2.693455219268799, validation loss: 5.287609100341797\n",
            "Tranining 70/120 done, training loss: 2.5997071266174316, validation loss: 5.032324314117432\n",
            "Tranining 71/120 done, training loss: 2.3382315635681152, validation loss: 4.411766529083252\n",
            "Tranining 72/120 done, training loss: 2.158059597015381, validation loss: 4.667057037353516\n",
            "Tranining 73/120 done, training loss: 2.115877151489258, validation loss: 4.990407466888428\n",
            "Tranining 74/120 done, training loss: 2.0887084007263184, validation loss: 4.501762866973877\n",
            "Tranining 75/120 done, training loss: 2.135220527648926, validation loss: 4.509862422943115\n",
            "Tranining 76/120 done, training loss: 2.214550256729126, validation loss: 5.408593654632568\n",
            "Tranining 77/120 done, training loss: 2.1012847423553467, validation loss: 4.156345844268799\n",
            "Tranining 78/120 done, training loss: 2.0214853286743164, validation loss: 4.270661354064941\n",
            "Tranining 79/120 done, training loss: 2.0691134929656982, validation loss: 4.834423542022705\n",
            "Tranining 80/120 done, training loss: 1.9792735576629639, validation loss: 4.79005765914917\n",
            "Tranining 81/120 done, training loss: 2.033053159713745, validation loss: 3.942572593688965\n",
            "Tranining 82/120 done, training loss: 1.950978398323059, validation loss: 4.329730987548828\n",
            "Tranining 83/120 done, training loss: 1.8803036212921143, validation loss: 5.001614093780518\n",
            "Tranining 84/120 done, training loss: 2.3826167583465576, validation loss: 4.62538480758667\n",
            "Tranining 85/120 done, training loss: 1.898800015449524, validation loss: 4.968283176422119\n",
            "Tranining 86/120 done, training loss: 2.1517090797424316, validation loss: 4.912027359008789\n",
            "Tranining 87/120 done, training loss: 1.8600982427597046, validation loss: 4.087366580963135\n",
            "Tranining 88/120 done, training loss: 1.7968934774398804, validation loss: 4.482386589050293\n",
            "Tranining 89/120 done, training loss: 1.7725403308868408, validation loss: 4.216897964477539\n",
            "Tranining 90/120 done, training loss: 1.78421151638031, validation loss: 4.043578624725342\n",
            "Tranining 91/120 done, training loss: 1.8201392889022827, validation loss: 4.427449703216553\n",
            "Tranining 92/120 done, training loss: 1.8273416757583618, validation loss: 4.58008337020874\n",
            "Tranining 93/120 done, training loss: 1.7857251167297363, validation loss: 4.600584983825684\n",
            "Tranining 94/120 done, training loss: 1.7167632579803467, validation loss: 4.522633075714111\n",
            "Tranining 95/120 done, training loss: 1.745400071144104, validation loss: 4.391624927520752\n",
            "Tranining 96/120 done, training loss: 1.6525462865829468, validation loss: 4.293908596038818\n",
            "Tranining 97/120 done, training loss: 1.7044035196304321, validation loss: 4.441869258880615\n",
            "Tranining 98/120 done, training loss: 1.6645444631576538, validation loss: 4.4096221923828125\n",
            "Tranining 99/120 done, training loss: 1.6868298053741455, validation loss: 4.415371894836426\n",
            "Tranining 100/120 done, training loss: 1.698056936264038, validation loss: 4.7894062995910645\n",
            "Tranining 101/120 done, training loss: 1.9608771800994873, validation loss: 4.841152667999268\n",
            "Tranining 102/120 done, training loss: 1.8213472366333008, validation loss: 5.142463207244873\n",
            "Tranining 103/120 done, training loss: 1.705627679824829, validation loss: 4.76097297668457\n",
            "Tranining 104/120 done, training loss: 1.5570179224014282, validation loss: 4.579856872558594\n",
            "Tranining 105/120 done, training loss: 1.509965181350708, validation loss: 4.965097904205322\n",
            "Tranining 106/120 done, training loss: 1.5130788087844849, validation loss: 4.942043304443359\n",
            "Tranining 107/120 done, training loss: 1.5228142738342285, validation loss: 5.588890075683594\n",
            "Tranining 108/120 done, training loss: 1.7183787822723389, validation loss: 4.5868611335754395\n",
            "Tranining 109/120 done, training loss: 1.475205898284912, validation loss: 5.487287998199463\n",
            "Tranining 110/120 done, training loss: 1.4157726764678955, validation loss: 5.283746242523193\n",
            "Tranining 111/120 done, training loss: 1.6582775115966797, validation loss: 4.627598762512207\n",
            "Tranining 112/120 done, training loss: 1.4857615232467651, validation loss: 4.537242889404297\n",
            "Tranining 113/120 done, training loss: 1.667425513267517, validation loss: 5.269307613372803\n",
            "Tranining 114/120 done, training loss: 1.574209213256836, validation loss: 4.585808753967285\n",
            "Tranining 115/120 done, training loss: 1.4529976844787598, validation loss: 4.689152240753174\n",
            "Tranining 116/120 done, training loss: 1.3601434230804443, validation loss: 5.268913269042969\n",
            "Tranining 117/120 done, training loss: 1.351128339767456, validation loss: 5.096397876739502\n",
            "Tranining 118/120 done, training loss: 1.3226346969604492, validation loss: 5.198508262634277\n",
            "Tranining 119/120 done, training loss: 1.3063308000564575, validation loss: 5.012254238128662\n",
            "Tranining 120/120 done, training loss: 1.3046162128448486, validation loss: 5.358495235443115\n",
            "tensor(2.7673)\n"
          ]
        },
        {
          "output_type": "display_data",
          "data": {
            "text/plain": [
              "<Figure size 640x480 with 1 Axes>"
            ],
            "image/png": "[encoded data removed]"
          },
          "metadata": {}
        },
        {
          "output_type": "stream",
          "name": "stdout",
          "text": [
            "Tester: Regression model learning OK\n"
          ]
        }
      ]
    },
    {
      "cell_type": "markdown",
      "metadata": {
        "id": "pTBqUmDzPiYI"
      },
      "source": [
        "## **G**: Az adat-iterátorok létrehozása a klasszifikációs feladathoz\n",
        "\n",
        "Hasonlóan a D) feladathoz, itt is három adat-iterátort kell létrehoznunk, azonban ezúttal egy kissé eltérő feladatot fogunk megtanulni megoldani, így a visszaadott tenzorok alakja / adattípusa is eltérő lesz. **Állítsd elő** a `dataloader_cl_train`, `dataloader_cl_val`, `dataloader_cl_test` nevű **iterátorokat**, melyek ugyancsak a C) részfeladatban elkészült tanító-, validációs- és teszthalmazokat tartalmazó tömböket járják be! A klasszifikációs feladatban input változókként az összes változót felhasználjuk az adatbázisban, kivéve a három harmadév végi jegyét a diákoknak (`G1`, `G2`, `G3` nevű, #30, #31 és #32 indexű oszlopok az eredeti adatbázis szövegfájlban). Címkeként három kategóriát definiálunk és az összes diákot besoroljuk ezekbe a kategóriákba:\n",
        "- **\"Gyengén teljesítő diákok\"** kategória, #0 kategóriaindex: azon diákok kerülnek ide, akik átlagos jegye kisebb, mint 9.5.\n",
        "- **\"Közepesen teljesítő diákok\"** kategória, #1 kategóriaindex: azon diákok kerülnek ide, akik legnagyobb jegye kisebb, mint 14, de nem tartoznak a \"Gyengén teljesítő diákok\" közé.\n",
        "- **\"Jól teljesítő diákok\"** kategória, #2 kategóriaindex: azon diákok kerülnek ide, akik nem tartoznak a másik két kategóriába.\n",
        "\n",
        "A fentiek alapján az iterátorok által visszaadott tenzorok alakja `(batch_size, 34)` és `(batch_size, 1)` lesz. Utóbbi (a címkéket tartalmazó tenzor) a diákok kategóriaindexét fogja tartalmazni (azaz 0, 1, vagy 2 értékeket, `torch.int64` adattípusban), előbbi pedig az adatbázis összes felhasznált változójának értékét a megfelelő mintaelemekre `torch.float32` adattípusban. `batch_size` ezúttal is a mintaelemek számát adja meg, ez kézzel beállítandó.\n",
        "\n",
        "A **tanító és validációs halmazt felsoroló iterátorok véletlen sorrendben járják be** a hozzájuk tartozó mintaelemeket! A teszt halmazt felsoroló iterátor ne változtasson a `dataset_split_test` tömb sorrendjén!"
      ]
    },
    {
      "cell_type": "code",
      "source": [
        "# implement your solution BELOW\n",
        "\n",
        "\n",
        "class YearEndGradeDatasetClass(Dataset):\n",
        "    def __init__(self, features, target):\n",
        "        self.features = torch.tensor(features, dtype=torch.float32)\n",
        "        self.target = torch.tensor(target, dtype=torch.int64)\n",
        "\n",
        "    def __len__(self):\n",
        "        return len(self.features)\n",
        "\n",
        "    def __getitem__(self, idx):\n",
        "        return self.features[idx], self.target[idx]\n",
        "\n",
        "train_x_values = np.concatenate((dataset_split_train[:, :30], dataset_split_train[:, 33:]), axis=1)\n",
        "val_x_values = np.concatenate((dataset_split_val[:, :30], dataset_split_val[:, 33:]), axis=1)\n",
        "test_x_values = np.concatenate((dataset_split_test[:, :30], dataset_split_test[:, 33:]), axis=1)\n",
        "\n",
        "\n",
        "train_y_values = np.full(len(dataset_split_train[:, 30:33]), dtype=np.int64, fill_value=2)\n",
        "val_y_values = np.full(len(dataset_split_val[:, 30:33]), dtype=np.int64, fill_value=2)\n",
        "test_y_values = np.full(len(dataset_split_test[:, 30:33]), dtype=np.int64, fill_value=2)\n",
        "\n",
        "\n",
        "matrixes = [dataset_split_train[:, 30:33], dataset_split_val[:, 30:33], dataset_split_test[:, 30:33]]\n",
        "\n",
        "categories = []\n",
        "for matrix in matrixes:\n",
        "    cat = np.full(len(matrix), 2, dtype=np.int64)\n",
        "    cat[matrix.mean(axis=1) < 9.5] = 0\n",
        "    cat[(matrix.mean(axis=1) > 9.5) & (matrix.max(axis=1) < 14)] = 1\n",
        "    categories.append(cat)\n",
        "\n",
        "\n",
        "train_dataset = YearEndGradeDatasetClass(train_x_values , categories[0])\n",
        "val_dataset = YearEndGradeDatasetClass(val_x_values , categories[1])\n",
        "test_dataset = YearEndGradeDatasetClass(test_x_values ,categories[2])\n",
        "\n",
        "dataloader_cl_train = DataLoader(train_dataset, batch_size=32, shuffle=True)\n",
        "dataloader_cl_val = DataLoader(val_dataset, batch_size=32, shuffle=True)\n",
        "dataloader_cl_test = DataLoader(test_dataset, batch_size=32, shuffle=False)\n",
        "\n",
        "\n",
        "# implement your solution ABOVE\n",
        "\n",
        "tester.test('cl_iter', dataloader_cl_train, dataloader_cl_val, dataloader_cl_test)"
      ],
      "metadata": {
        "id": "I4QacNSQAhdz",
        "colab": {
          "base_uri": "https://localhost:8080/"
        },
        "outputId": "b7591495-8ebe-4600-f5fc-c6094a70d156"
      },
      "execution_count": 139,
      "outputs": [
        {
          "output_type": "stream",
          "name": "stdout",
          "text": [
            "Tester: Dataset iterators for classification task OK\n"
          ]
        }
      ]
    },
    {
      "cell_type": "markdown",
      "metadata": {
        "id": "9xdtHfyrwexF"
      },
      "source": [
        "## **H**: A klasszifikációs neuronháló definiálása\n",
        "\n",
        "**Definiáld a klasszifikációs feladathoz alkalmazandó neuronhálót megvalósító osztályt**, mely a regressziós neuronhálót implementáló osztályhoz hasonlóan, az általános `torch.nn.Module` osztály leszármazottja! Példányosítsd az új osztályt és add értékül a `cl_model` nevű változónak a példányt!\n",
        "\n",
        "A klasszifikációs neuronháló **tartalmazzon 3 teljesen összekötött réteget! Az első kettő réteg tartalmazzon egyenként 30 és 20 neuront és alkalmazza a ReLU aktivációs függvényt a rétegek után!** Az utolsó réteget a háromkategóriás klasszifikációnak megfelelően kell kialakítani! Lásd a \"HF1 GYIK\" fórumot!"
      ]
    },
    {
      "cell_type": "code",
      "metadata": {
        "id": "30Iwot3xxVXI",
        "colab": {
          "base_uri": "https://localhost:8080/"
        },
        "outputId": "41424adc-864c-41ff-fbb1-65328affe0ac"
      },
      "source": [
        "# implement your solution BELOW\n",
        "class ClassificationModel(nn.Module):\n",
        "    def __init__(self, input_dim):\n",
        "      super().__init__()\n",
        "      self.linear_relu_layers = nn.Sequential(\n",
        "          nn.Linear(input_dim, 30),\n",
        "          nn.ReLU(),\n",
        "          nn.Linear(30, 20),\n",
        "          nn.ReLU(),\n",
        "          nn.Linear(20, 3)\n",
        "      )\n",
        "\n",
        "\n",
        "    def forward(self, x):\n",
        "      return self.linear_relu_layers(x)\n",
        "\n",
        "\n",
        "cl_model = ClassificationModel(34)\n",
        "\n",
        "\n",
        "# implement your solution ABOVE\n",
        "\n",
        "tester.test('cl_model_architecture', cl_model)"
      ],
      "execution_count": 140,
      "outputs": [
        {
          "output_type": "stream",
          "name": "stdout",
          "text": [
            "Tester: Classification model architecture OK\n"
          ]
        }
      ]
    },
    {
      "cell_type": "markdown",
      "metadata": {
        "id": "7uowunGxa2Mq"
      },
      "source": [
        "## **I**: A háló betanítása (multi-class) klasszifikációs feladatra\n",
        "\n",
        "**Tanítsd be a** `cl_model` **neuronhálót** a tanítóhalmazon a `dataloader_cl_train` iterátor segítségével és alkalmazd a `dataloader_cl_val` iterátort a validációhoz!\n",
        "\n",
        "Alkalmazd a multi-class klasszifikációkor szokásosan használt **cross-entropy költséget**! **Mérd le minden epoch-ban a tanító- és a validációs halmazon mért költségeket, majd a tanítás végeztével rajzold ki ezeknek az értékeknek a tanítás során való alakulását egy közös grafikonon!** A grafikonon a jelmagyarázat meglétére és a görbék könnyű elkülöníthetőségére figyelj ezúttal is!\n",
        "\n",
        "A tanítást ezúttal az **early stopping** technika állítsa le! Amennyiben adott számú epoch-on keresztül (`patience`) nem javul a validációs költség, érjen véget a betanítás és **állítsuk vissza a `cl_model` súlyait abból az epoch-ból, amikor a legjobb volt a validációs költség!** Mindez automatikusan történjen!\n",
        "\n",
        "A betanítás végeztével **mérd le az átlagos költséget a teljes teszthalmazon** és add értékül a kapott számot a `test_ce` változónak!\n",
        "\n",
        "**Számold ki az _accuracy_ (pontosság) metrikát is a teszthalmaz elemein** és add értékül a kapott számot a `test_acc` változónak! Az _accuracy_ metrika a helyesen klasszifikált mintaelemek arányát adja meg. Például, ha 150 mintaelem kategóriájának becslésekor 75 esetben találtuk el a helyes kategóriát, az _accuracy_ értéke 0.5 lesz.\n",
        "\n",
        "Ezt követően, **válassz néhány mintaelemet a teszthalmazból** (például a `dataloader_cl_test` iterátor segítségével) és **adj becslést a címkéjükre** (a kategória indexére) az input változók értékei alapján, majd **írasd ki az egyes mintaelemekre a becsült és az igazi címkéjüket** (a kategóriák indexét)! Így példákon is láthatjuk, hogy mennyire ad jó becsléseket a neuronhálónk.\n",
        "\n",
        "Végezetül, **számold ki a háló teszthalmazon vett konfúziós mátrixát és rajzold ki azt**! A konfúziós mátrix egy k x k méretű mátrix k kategória esetén, ahol az `[i,j]` indexű elem megadja, hogy az adathalmazon a modellünk hány `i` kategóriába tartozó mintaelemet becsült a `j` kategóriába. A modellünk jó teljesítményét jelzi, ha minél több elem kerül a konfúziós mátrix főátlójába. A számoláshoz felhasználhatsz külső könyvtárat is, de NumPy-ban is megoldható. A kirajzoláshoz használható például a `matplotlib.pyplot` csomag `imshow` függvénye. Figyelj rá, hogy a grafikonon világosan látszon, hogy melyik tengely sorolja fel az igazi kategóriákat és melyik a becsült kategóriákat, látszanak a sorok és oszlopok végén a kategóriák indexei és a cellákban az odatartozó mintaelemek darabszáma!\n"
      ]
    },
    {
      "cell_type": "code",
      "source": [
        "# implement your solution BELOW\n",
        "\n",
        "class Callback():\n",
        "  def __init__(self):\n",
        "    pass\n",
        "\n",
        "  def on_train_end(self, avg_train_loss):\n",
        "    pass\n",
        "\n",
        "  def on_val_end(self, avg_val_loss):\n",
        "    pass\n",
        "\n",
        "  def on_test_end(self, avg_test_loss):\n",
        "    pass\n",
        "\n",
        "  def on_epoch_end(self, trainer):\n",
        "    pass\n",
        "\n",
        "  def on_train_prediction(self, prediction, label):\n",
        "    pass\n",
        "\n",
        "  def on_val_prediction(self, prediction, label):\n",
        "    pass\n",
        "\n",
        "  def on_test_prediction(self, prediction, label):\n",
        "    pass\n",
        "\n",
        "  def on_stop(self, results):\n",
        "    pass\n",
        "\n",
        "class EarlyStoppingCallback(Callback):\n",
        "  def __init__(self, delta=0.01, patience=10, save_path=None, model=None):\n",
        "    self.delta = delta\n",
        "    self.patience = patience\n",
        "    self.best_loss = np.inf\n",
        "    self.no_improvement_count = 0\n",
        "    self.save_path = save_path\n",
        "    self.model = model\n",
        "    self.best_model_state = None\n",
        "\n",
        "  def on_val_end(self, avg_val_loss):\n",
        "    if avg_val_loss + self.delta < self.best_loss:\n",
        "      self.best_loss = avg_val_loss\n",
        "      self.no_improvement_count = 0\n",
        "      if self.save_path is not None and self.model is not None:\n",
        "        self.best_model_state = copy.deepcopy(self.model.state_dict())\n",
        "        torch.save(self.model.state_dict(), self.save_path)\n",
        "    else:\n",
        "      self.no_improvement_count += 1\n",
        "\n",
        "  def on_epoch_end(self, trainer):\n",
        "    if self.no_improvement_count >= self.patience:\n",
        "      print('Stopped by early stopping.')\n",
        "      print('Best validation loss: ', self.best_loss.item())\n",
        "      trainer.stop = True\n",
        "      if self.best_model_state is not None:\n",
        "        self.model.load_state_dict(self.best_model_state)\n",
        "\n",
        "\n",
        "class MetricsCallback(Callback):\n",
        "  def __init__(self, metrics_to_track):\n",
        "    self.metrics_to_track = metrics_to_track\n",
        "    self.__reset()\n",
        "\n",
        "  def __reset(self):\n",
        "    self.metrics_temp = dict()\n",
        "    self.metrics = dict()\n",
        "\n",
        "  def __add_prediction(self, prediction, label, prefix):\n",
        "    for metric_name, metric_fn in self.metrics_to_track.items():\n",
        "      key = f'{prefix}_{metric_name}'\n",
        "      if key not in self.metrics:\n",
        "        self.metrics[key] = []\n",
        "        self.metrics_temp[key] = []\n",
        "\n",
        "      self.metrics_temp[key].append(metric_fn(prediction, label).reshape(-1))\n",
        "\n",
        "  def __aggregate_metrics(self, prefix):\n",
        "    for key in self.metrics_to_track.keys():\n",
        "      self.metrics[f'{prefix}_{key}'].append(torch.cat(self.metrics_temp[f'{prefix}_{key}']).mean().item())\n",
        "      self.metrics_temp[f'{prefix}_{key}'] = []\n",
        "\n",
        "  def on_train_prediction(self, prediction, label):\n",
        "    self.__add_prediction(prediction, label, 'train')\n",
        "\n",
        "  def on_val_prediction(self, prediction, label):\n",
        "    self.__add_prediction(prediction, label, 'val')\n",
        "\n",
        "  def on_test_prediction(self, prediction, label):\n",
        "    self.__add_prediction(prediction, label, 'test')\n",
        "\n",
        "  def on_train_end(self, avg_train_loss):\n",
        "    self.__aggregate_metrics('train')\n",
        "\n",
        "  def on_val_end(self, avg_val_loss):\n",
        "    self.__aggregate_metrics('val')\n",
        "\n",
        "  def on_test_end(self, avg_test_loss):\n",
        "    self.__aggregate_metrics('test')\n",
        "\n",
        "  def on_stop(self, results):\n",
        "    metrics = {key: np.array(val) for key,val in self.metrics.items()}\n",
        "    results.update(metrics)\n",
        "    self.__reset()\n",
        "\n",
        "class Trainer():\n",
        "  def __init__(self, model, train_dataloader, val_dataloader, optimizer, loss_fn, n_epochs=10, callbacks=[]):\n",
        "    self.model = model\n",
        "    self.train_dataloader = train_dataloader\n",
        "    self.val_dataloader = val_dataloader\n",
        "    self.optimizer = optimizer\n",
        "    self.loss_fn = loss_fn\n",
        "    self.n_epochs = n_epochs\n",
        "    self.stop = False\n",
        "    self.callbacks = callbacks\n",
        "    self.train_losses = []\n",
        "    self.val_losses = []\n",
        "\n",
        "  def __train(self, dataloader):\n",
        "    self.model.train()\n",
        "    train_epoch_losses = []\n",
        "\n",
        "    for x, y in dataloader:\n",
        "      self.optimizer.zero_grad()\n",
        "      y_hat = self.model(x)\n",
        "      loss = self.loss_fn(y_hat, y)\n",
        "      [callback.on_train_prediction(y_hat.detach(), y) for callback in self.callbacks]\n",
        "      train_epoch_losses.append(loss)\n",
        "      loss.backward()\n",
        "      self.optimizer.step()\n",
        "\n",
        "    train_epoch_losses = torch.tensor(train_epoch_losses)\n",
        "    avg_epoch_loss = train_epoch_losses.mean()\n",
        "\n",
        "    [callback.on_train_end(avg_epoch_loss) for callback in self.callbacks]\n",
        "\n",
        "    return avg_epoch_loss\n",
        "\n",
        "  def __eval(self, dataloader, test=False):\n",
        "    self.model.eval()\n",
        "    epoch_losses = []\n",
        "\n",
        "    for x, y in dataloader:\n",
        "      with torch.no_grad():\n",
        "        y_hat = self.model(x)\n",
        "\n",
        "      loss = self.loss_fn(y_hat, y)\n",
        "      if test:\n",
        "        [callback.on_test_prediction(y_hat.detach(), y) for callback in self.callbacks]\n",
        "      else:\n",
        "        [callback.on_val_prediction(y_hat.detach(), y) for callback in self.callbacks]\n",
        "\n",
        "      epoch_losses.append(loss)\n",
        "\n",
        "    epoch_losses = torch.tensor(epoch_losses)\n",
        "    avg_epoch_loss = epoch_losses.mean()\n",
        "\n",
        "    if test:\n",
        "      [callback.on_test_end(avg_epoch_loss) for callback in self.callbacks]\n",
        "    else:\n",
        "      [callback.on_val_end(avg_epoch_loss) for callback in self.callbacks]\n",
        "\n",
        "    return avg_epoch_loss\n",
        "\n",
        "  def train(self):\n",
        "    for epoch in range(self.n_epochs):\n",
        "      train_loss = self.__train(self.train_dataloader)\n",
        "      self.train_losses.append(train_loss)\n",
        "      val_loss = self.__eval(self.val_dataloader, test=False)\n",
        "      self.val_losses.append(val_loss)\n",
        "\n",
        "      print(f'Tranining {epoch+1}/{self.n_epochs} done, training loss: {train_loss}, validation loss: {val_loss}')\n",
        "\n",
        "      [callback.on_epoch_end(self) for callback in self.callbacks]\n",
        "\n",
        "      if self.stop:\n",
        "        break\n",
        "\n",
        "    results = {\n",
        "        'train_loss': self.train_losses,\n",
        "        'val_loss': self.val_losses\n",
        "    }\n",
        "\n",
        "    [callback.on_stop(results) for callback in self.callbacks]\n",
        "\n",
        "    return results\n",
        "\n",
        "  def test(self, test_dataloader):\n",
        "    test_loss = self.__eval(test_dataloader, test=True)\n",
        "\n",
        "    results = {\n",
        "        'test_loss': test_loss\n",
        "    }\n",
        "\n",
        "    [callback.on_stop(results) for callback in self.callbacks]\n",
        "\n",
        "    return results\n",
        "\n",
        "\n",
        "\n",
        "n_epochs = 100\n",
        "model = ClassificationModel(34)\n",
        "loss_fn = nn.CrossEntropyLoss()\n",
        "\n",
        "learning_rate = 0.001\n",
        "optimizer = torch.optim.Adam(model.parameters(), lr=learning_rate)\n",
        "\n",
        "def accuracy(pred, label):\n",
        "  pred = torch.argmax(pred, dim=-1)\n",
        "  label = torch.argmax(label, dim=-1)\n",
        "\n",
        "  return (pred == label).to(torch.float32)\n",
        "\n",
        "metrics = {\n",
        "    'Accuracy': accuracy\n",
        "}\n",
        "\n",
        "earlystopping_callback = EarlyStoppingCallback(delta=0.01, patience=20, save_path='best_model.pth')\n",
        "metrics_callback = MetricsCallback(metrics)\n",
        "callbacks = [earlystopping_callback, metrics_callback]\n",
        "trainer = Trainer(model, dataloader_cl_train , dataloader_cl_val, optimizer, loss_fn, n_epochs=n_epochs, callbacks=callbacks)\n",
        "results = trainer.train()\n",
        "\n",
        "plt.plot(results['train_Accuracy'], label='Training')\n",
        "plt.plot(results['val_Accuracy'], label='Validation')\n",
        "plt.xlabel('Epochs')\n",
        "plt.ylabel('Accuracy')\n",
        "plt.legend()\n",
        "plt.show()\n",
        "\n",
        "\n",
        "model.eval()\n",
        "test_losses = []  # Store test losses\n",
        "accuracy = []\n",
        "prediction_label_pairs = []\n",
        "for x, y in dataloader_cl_test:\n",
        "    with torch.no_grad():\n",
        "        y_hat = model(x)\n",
        "    loss = loss_fn(y_hat, y)\n",
        "    test_losses.append(loss.item())\n",
        "    prediction = torch.argmax(y_hat, dim=1)\n",
        "    prediction_label_pairs.append(torch.stack((prediction, y), dim=-1))\n",
        "    accuracy.append((prediction == y).to(torch.float32))\n",
        "test_ce = torch.tensor(test_losses).mean()\n",
        "\n",
        "\n",
        "accuracy = torch.cat(accuracy).mean()\n",
        "test_acc = accuracy.item()\n",
        "#print(prediction_label_pairs[0])\n",
        "\n",
        "print(trainer.test(dataloader_cl_test))\n",
        "\n",
        "from sklearn.metrics import confusion_matrix\n",
        "\n",
        "prediction_label_pairs = torch.cat(prediction_label_pairs, 0)\n",
        "print(prediction_label_pairs.shape)\n",
        "conf = confusion_matrix(prediction_label_pairs[:,1], prediction_label_pairs[:,0])\n",
        "\n",
        "\n",
        "\n",
        "\n",
        "\n",
        "\n",
        "\n",
        "plt.imshow(conf, cmap='Blues')\n",
        "plt.colorbar()\n",
        "plt.xlabel('Predicted Label')\n",
        "plt.ylabel('True Label')\n",
        "plt.title('Confusion Matrix')\n",
        "plt.show()\n",
        "\n",
        "\n",
        "# implement your solution ABOVE\n",
        "\n",
        "tester.test('cl_model_learning', test_ce, test_acc)"
      ],
      "metadata": {
        "id": "5v3_oyswb78-",
        "colab": {
          "base_uri": "https://localhost:8080/",
          "height": 1000
        },
        "outputId": "38f6c6dc-a6c7-41f2-cc0b-df67b7f7bb8c"
      },
      "execution_count": 141,
      "outputs": [
        {
          "output_type": "stream",
          "name": "stdout",
          "text": [
            "Tranining 1/100 done, training loss: 1.1090967655181885, validation loss: 1.0523282289505005\n",
            "Tranining 2/100 done, training loss: 1.0875790119171143, validation loss: 1.0812873840332031\n",
            "Tranining 3/100 done, training loss: 1.0830992460250854, validation loss: 1.0765104293823242\n",
            "Tranining 4/100 done, training loss: 1.0779485702514648, validation loss: 1.0814019441604614\n",
            "Tranining 5/100 done, training loss: 1.0695278644561768, validation loss: 1.0675297975540161\n",
            "Tranining 6/100 done, training loss: 1.0727180242538452, validation loss: 1.0532809495925903\n",
            "Tranining 7/100 done, training loss: 1.0656211376190186, validation loss: 1.0643649101257324\n",
            "Tranining 8/100 done, training loss: 1.0580941438674927, validation loss: 1.0622018575668335\n",
            "Tranining 9/100 done, training loss: 1.0523604154586792, validation loss: 1.0607737302780151\n",
            "Tranining 10/100 done, training loss: 1.047694444656372, validation loss: 1.0329705476760864\n",
            "Tranining 11/100 done, training loss: 1.0397599935531616, validation loss: 1.034039855003357\n",
            "Tranining 12/100 done, training loss: 1.0365097522735596, validation loss: 1.05429208278656\n",
            "Tranining 13/100 done, training loss: 1.0177271366119385, validation loss: 1.0514460802078247\n",
            "Tranining 14/100 done, training loss: 1.0102005004882812, validation loss: 1.0375524759292603\n",
            "Tranining 15/100 done, training loss: 1.0061798095703125, validation loss: 1.0365041494369507\n",
            "Tranining 16/100 done, training loss: 0.991328775882721, validation loss: 1.0417591333389282\n",
            "Tranining 17/100 done, training loss: 0.9908164143562317, validation loss: 1.0135869979858398\n",
            "Tranining 18/100 done, training loss: 0.9833066463470459, validation loss: 1.0207489728927612\n",
            "Tranining 19/100 done, training loss: 0.9722634553909302, validation loss: 1.0231655836105347\n",
            "Tranining 20/100 done, training loss: 0.95665442943573, validation loss: 1.0187290906906128\n",
            "Tranining 21/100 done, training loss: 0.9498240351676941, validation loss: 1.02900230884552\n",
            "Tranining 22/100 done, training loss: 0.9432384967803955, validation loss: 1.0096945762634277\n",
            "Tranining 23/100 done, training loss: 0.9266725182533264, validation loss: 1.0207818746566772\n",
            "Tranining 24/100 done, training loss: 0.9159777760505676, validation loss: 1.01701021194458\n",
            "Tranining 25/100 done, training loss: 0.9016526937484741, validation loss: 1.0006433725357056\n",
            "Tranining 26/100 done, training loss: 0.8896225690841675, validation loss: 0.9999601244926453\n",
            "Tranining 27/100 done, training loss: 0.8865389823913574, validation loss: 1.0147331953048706\n",
            "Tranining 28/100 done, training loss: 0.886599063873291, validation loss: 1.0282663106918335\n",
            "Tranining 29/100 done, training loss: 0.8919340372085571, validation loss: 1.0222101211547852\n",
            "Tranining 30/100 done, training loss: 0.8795759081840515, validation loss: 1.0348072052001953\n",
            "Tranining 31/100 done, training loss: 0.855333149433136, validation loss: 0.9935179352760315\n",
            "Tranining 32/100 done, training loss: 0.8633226156234741, validation loss: 1.014174461364746\n",
            "Tranining 33/100 done, training loss: 0.8494949340820312, validation loss: 0.9958054423332214\n",
            "Tranining 34/100 done, training loss: 0.8472014665603638, validation loss: 1.0170555114746094\n",
            "Tranining 35/100 done, training loss: 0.8453713655471802, validation loss: 1.0050846338272095\n",
            "Tranining 36/100 done, training loss: 0.8274152278900146, validation loss: 1.004704236984253\n",
            "Tranining 37/100 done, training loss: 0.843483030796051, validation loss: 1.0194748640060425\n",
            "Tranining 38/100 done, training loss: 0.8291383981704712, validation loss: 1.0562050342559814\n",
            "Tranining 39/100 done, training loss: 0.8174785375595093, validation loss: 0.9931383728981018\n",
            "Tranining 40/100 done, training loss: 0.830978274345398, validation loss: 1.0028728246688843\n",
            "Tranining 41/100 done, training loss: 0.7931687831878662, validation loss: 1.029009222984314\n",
            "Tranining 42/100 done, training loss: 0.8014143705368042, validation loss: 1.055035948753357\n",
            "Tranining 43/100 done, training loss: 0.7891590595245361, validation loss: 1.0126522779464722\n",
            "Tranining 44/100 done, training loss: 0.7797050476074219, validation loss: 1.00945246219635\n",
            "Tranining 45/100 done, training loss: 0.7928426861763, validation loss: 1.0666687488555908\n",
            "Stopped by early stopping.\n",
            "Best validation loss:  1.0006433725357056\n"
          ]
        },
        {
          "output_type": "display_data",
          "data": {
            "text/plain": [
              "<Figure size 640x480 with 1 Axes>"
            ],
            "image/png": "[encoded data removed]"
          },
          "metadata": {}
        },
        {
          "output_type": "stream",
          "name": "stdout",
          "text": [
            "{'test_loss': tensor(1.1358), 'test_Accuracy': array([0.24050634])}\n",
            "torch.Size([79, 2])\n"
          ]
        },
        {
          "output_type": "display_data",
          "data": {
            "text/plain": [
              "<Figure size 640x480 with 2 Axes>"
            ],
            "image/png": "[encoded data removed]"
          },
          "metadata": {}
        },
        {
          "output_type": "stream",
          "name": "stdout",
          "text": [
            "Tester: Classification model learning OK\n"
          ]
        }
      ]
    }
  ]
}